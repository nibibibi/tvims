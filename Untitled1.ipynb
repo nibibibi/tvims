{
 "cells": [
  {
   "cell_type": "markdown",
   "id": "9ac4b9a9",
   "metadata": {},
   "source": [
    "## Двумерная выборка находится в файле input2.csv"
   ]
  },
  {
   "cell_type": "code",
   "execution_count": 3,
   "id": "b19bdd03",
   "metadata": {},
   "outputs": [
    {
     "name": "stdout",
     "output_type": "stream",
     "text": [
      "[[ 6.49 -3.65]\n",
      " [ 2.1  -1.14]\n",
      " [ 1.68  1.93]\n",
      " [ 1.74 -2.83]\n",
      " [ 6.7  -1.53]\n",
      " [ 3.22 -1.86]\n",
      " [ 0.82  2.09]\n",
      " [ 0.32  0.21]\n",
      " [ 5.16 -6.16]\n",
      " [-0.45  1.72]\n",
      " [ 3.21  1.11]\n",
      " [ 4.37  1.38]\n",
      " [ 0.34  2.25]\n",
      " [ 1.01 -4.34]\n",
      " [-1.33  2.16]\n",
      " [ 0.83  2.35]\n",
      " [ 6.04 -5.25]\n",
      " [-1.13  1.03]\n",
      " [-0.25 -1.43]\n",
      " [ 3.19 -0.96]\n",
      " [ 5.2   0.79]\n",
      " [-2.01  4.19]\n",
      " [ 3.89 -3.67]\n",
      " [ 3.61 -0.18]\n",
      " [-2.    1.07]\n",
      " [ 4.51 -3.59]\n",
      " [ 2.01  0.1 ]\n",
      " [-2.49  3.17]\n",
      " [ 0.48  5.21]\n",
      " [-2.35  1.14]\n",
      " [-2.67  0.73]\n",
      " [ 4.91 -1.58]\n",
      " [ 5.88 -4.91]\n",
      " [-0.2   5.53]\n",
      " [ 9.45 -3.91]\n",
      " [ 6.76 -4.27]\n",
      " [ 2.07  1.28]\n",
      " [ 4.08  2.03]\n",
      " [ 2.15 -0.18]\n",
      " [ 4.43 -1.42]\n",
      " [ 0.91 -0.18]\n",
      " [ 1.24  0.21]\n",
      " [ 2.6   0.37]\n",
      " [ 2.73  1.73]\n",
      " [-0.82  0.45]\n",
      " [ 0.33  3.06]\n",
      " [-1.5   4.05]\n",
      " [ 3.59  0.4 ]\n",
      " [ 6.86  0.43]\n",
      " [ 2.08 -5.04]]\n"
     ]
    }
   ],
   "source": [
    "import matplotlib.pyplot as plt\n",
    "import numpy as np\n",
    "import pandas as pd\n",
    "import math\n",
    "from pprint import pprint\n",
    "dt = pd.read_csv(\"input2.csv\")\n",
    "nums = dt.to_numpy()\n",
    "print(nums)"
   ]
  },
  {
   "cell_type": "code",
   "execution_count": 5,
   "id": "04cfc8df",
   "metadata": {},
   "outputs": [
    {
     "name": "stdout",
     "output_type": "stream",
     "text": [
      "n: 50\n",
      "mx: 2.1958\n",
      "my: -0.1182\n",
      "Dx: 8.2581\n",
      "Dy: 7.8321\n",
      "Kxy: -4.9952\n",
      "Rxy: -0.6211\n"
     ]
    }
   ],
   "source": [
    "n = len(nums)\n",
    "print(\"n:\", n)\n",
    "x_vals = [float(x[0]) for x in nums]\n",
    "y_vals = [float(y[1]) for y in nums]\n",
    "matx = round(sum(x_vals) / n, 4)\n",
    "maty = round(sum(y_vals) / n, 4)\n",
    "print(\"mx:\", matx)\n",
    "print(\"my:\", maty)\n",
    "dispx = round(1 / (n - 1) * sum([(x - matx) ** 2 for x in x_vals]), 4)\n",
    "dispy = round(1 / (n - 1) * sum([(y - maty) ** 2 for y in y_vals]), 4)\n",
    "print(\"Dx:\", dispx)\n",
    "print(\"Dy:\", dispy)\n",
    "Kxy = round(1 / (n - 1) * sum([(j[0] - matx) * (j[1] - maty) for j in nums]), 4)\n",
    "print(\"Kxy:\", Kxy)\n",
    "Rxy = round(Kxy / (math.sqrt(dispx) * math.sqrt(dispy)), 4)\n",
    "print(\"Rxy:\", Rxy)"
   ]
  },
  {
   "cell_type": "code",
   "execution_count": 19,
   "id": "0d9253af",
   "metadata": {},
   "outputs": [
    {
     "name": "stdout",
     "output_type": "stream",
     "text": [
      "a: -1.013\n",
      "b: -0.441\n",
      "Z: 1.96\n",
      "Дов. интервал: [-0.767, -0.4145]\n",
      "t: 5.6038\n",
      "Za 1.96\n",
      "a1: -0.6049\n",
      "a0: 1.21\n",
      "Уравнение регрессии: y(x) = 1.21 + -0.6049 * x\n",
      "min x: -2.67\n",
      "max x: 9.45\n"
     ]
    },
    {
     "data": {
      "image/png": "[encoded data removed]",
      "text/plain": [
       "<Figure size 640x480 with 1 Axes>"
      ]
     },
     "metadata": {},
     "output_type": "display_data"
    }
   ],
   "source": [
    "u = 1.96\n",
    "a = round(0.5 * math.log((1 + Rxy) / (1 - Rxy)) - u / (math.sqrt(n - 3)), 3)\n",
    "b = round(0.5 * math.log((1 + Rxy) / (1 - Rxy)) + u / (math.sqrt(n - 3)), 3)\n",
    "print(\"a:\", a)\n",
    "print(\"b:\", b)\n",
    "print(\"Z:\", u)\n",
    "r1 = [round((math.exp(2 * a) - 1) / (math.exp(2 * a) + 1),4), round((math.exp(2 * b) - 1) / (math.exp(2 * b) + 1),4)]\n",
    "print(\"Дов. интервал:\", r1)\n",
    "t = round((abs(Rxy) * math.sqrt(n)) / math.sqrt(1 - Rxy ** 2),4)\n",
    "print(\"t:\", t)\n",
    "argF = 1.96\n",
    "print(\"Za\", argF)  \n",
    "a1 = round((sum([n * x_vals[i] * y_vals[i] for i in range(n)]) - sum(x_vals) * sum(y_vals))/(sum([n*xi**2 for xi in x_vals]) - sum(x_vals)**2), 4)\n",
    "a0 = round((sum(y_vals) - a1*sum(x_vals))/n, 4)\n",
    "print(\"a1:\", a1)\n",
    "print(\"a0:\", a0)\n",
    "print(f\"Уравнение регрессии: y(x) = {a0} + {a1} * x\")\n",
    "x = np.linspace(min(x_vals), max(x_vals), 1000)\n",
    "print(\"min x:\", min(x_vals))\n",
    "print(\"max x:\", max(x_vals))\n",
    "y = a1 * x + a0\n",
    "plt.grid(which='major', linewidth=1)\n",
    "plt.xlabel(\"X\")\n",
    "plt.ylabel(\"Y\")\n",
    "plt.plot(x, y, 'r')\n",
    "plt.plot(x_vals, y_vals, 'o')\n",
    "plt.show()"
   ]
  }
 ],
 "metadata": {
  "kernelspec": {
   "display_name": "Python 3 (ipykernel)",
   "language": "python",
   "name": "python3"
  },
  "language_info": {
   "codemirror_mode": {
    "name": "ipython",
    "version": 3
   },
   "file_extension": ".py",
   "mimetype": "text/x-python",
   "name": "python",
   "nbconvert_exporter": "python",
   "pygments_lexer": "ipython3",
   "version": "3.10.6"
  }
 },
 "nbformat": 4,
 "nbformat_minor": 5
}
