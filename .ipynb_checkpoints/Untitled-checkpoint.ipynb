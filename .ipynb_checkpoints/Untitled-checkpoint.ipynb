{
 "cells": [
  {
   "cell_type": "markdown",
   "id": "0fa7c71a",
   "metadata": {},
   "source": [
    "### Одномерная выборка расположена в input1.csv"
   ]
  },
  {
   "cell_type": "code",
   "execution_count": 1,
   "id": "bc0707c3",
   "metadata": {},
   "outputs": [],
   "source": [
    "import pandas as pd\n",
    "import numpy as np\n",
    "import matplotlib.pyplot as plt\n",
    "import math\n",
    "np.set_printoptions(suppress=True)"
   ]
  },
  {
   "cell_type": "code",
   "execution_count": 2,
   "id": "d391f384",
   "metadata": {},
   "outputs": [
    {
     "name": "stdout",
     "output_type": "stream",
     "text": [
      "Выборка:\n",
      " [-1.13  1.13  0.63 -1.67 -0.8  -1.45  1.25 -2.69 -0.36 -0.69 -0.14 -2.6\n",
      " -0.75 -1.54 -1.19 -0.06 -2.46 -1.48 -1.11  1.2  -2.1  -1.39  1.04 -0.23\n",
      " -1.73  0.13 -2.16 -0.79  1.35  0.28 -0.55 -2.96 -0.05 -2.08 -0.99 -0.17\n",
      " -1.81 -2.11 -0.19 -1.26 -0.24  1.41 -1.58  1.18 -1.22 -1.74 -3.79 -0.2\n",
      " -0.38  1.31  1.03  0.21  1.74 -0.93 -0.26 -0.19 -2.38 -0.09 -1.63  0.78\n",
      " -0.13 -0.82 -0.15 -2.5  -1.16 -2.09 -1.53 -0.09 -0.01 -0.9  -1.03 -2.62\n",
      " -0.67 -0.18 -0.17 -1.65 -1.22 -1.77  0.66 -1.11 -1.03  1.54 -1.67 -3.47\n",
      " -2.7  -1.1  -1.16 -2.21  0.8  -0.37 -2.83 -1.22 -1.13  0.02 -1.61 -3.02\n",
      " -0.32 -1.33  1.2  -0.39]\n",
      "Всего 100 значений.\n"
     ]
    }
   ],
   "source": [
    "dt = pd.read_csv(\"input1.csv\")\n",
    "sample = dt.to_numpy().flatten()\n",
    "print(\"Выборка:\\n\", sample)\n",
    "n = len(sample)\n",
    "print(\"Всего\", n , \"значений.\")"
   ]
  },
  {
   "cell_type": "markdown",
   "id": "17961175",
   "metadata": {},
   "source": [
    "Чтобы получить вариационный ряд выборку нужно отсортировать:"
   ]
  },
  {
   "cell_type": "code",
   "execution_count": 3,
   "id": "f901c8ef",
   "metadata": {},
   "outputs": [
    {
     "name": "stdout",
     "output_type": "stream",
     "text": [
      "Вариационный ряд: \n",
      " [-3.79 -3.47 -3.02 -2.96 -2.83 -2.7  -2.69 -2.62 -2.6  -2.5  -2.46 -2.38\n",
      " -2.21 -2.16 -2.11 -2.1  -2.09 -2.08 -1.81 -1.77 -1.74 -1.73 -1.67 -1.67\n",
      " -1.65 -1.63 -1.61 -1.58 -1.54 -1.53 -1.48 -1.45 -1.39 -1.33 -1.26 -1.22\n",
      " -1.22 -1.22 -1.19 -1.16 -1.16 -1.13 -1.13 -1.11 -1.11 -1.1  -1.03 -1.03\n",
      " -0.99 -0.93 -0.9  -0.82 -0.8  -0.79 -0.75 -0.69 -0.67 -0.55 -0.39 -0.38\n",
      " -0.37 -0.36 -0.32 -0.26 -0.24 -0.23 -0.2  -0.19 -0.19 -0.18 -0.17 -0.17\n",
      " -0.15 -0.14 -0.13 -0.09 -0.09 -0.06 -0.05 -0.01  0.02  0.13  0.21  0.28\n",
      "  0.63  0.66  0.78  0.8   1.03  1.04  1.13  1.18  1.2   1.2   1.25  1.31\n",
      "  1.35  1.41  1.54  1.74]\n"
     ]
    }
   ],
   "source": [
    "sequence = np.sort(sample)\n",
    "print(\"Вариационный ряд: \\n\", sequence)"
   ]
  },
  {
   "cell_type": "markdown",
   "id": "bd1bdf51",
   "metadata": {},
   "source": [
    "Нужно рассчитать как часто встречается каждый элемент в вариационном ряду:"
   ]
  },
  {
   "cell_type": "code",
   "execution_count": 4,
   "id": "6b8778f3",
   "metadata": {},
   "outputs": [
    {
     "name": "stdout",
     "output_type": "stream",
     "text": [
      "mi:\n",
      " {-3.79: 1, -3.47: 1, -3.02: 1, -2.96: 1, -2.83: 1, -2.7: 1, -2.69: 1, -2.62: 1, -2.6: 1, -2.5: 1, -2.46: 1, -2.38: 1, -2.21: 1, -2.16: 1, -2.11: 1, -2.1: 1, -2.09: 1, -2.08: 1, -1.81: 1, -1.77: 1, -1.74: 1, -1.73: 1, -1.67: 2, -1.65: 1, -1.63: 1, -1.61: 1, -1.58: 1, -1.54: 1, -1.53: 1, -1.48: 1, -1.45: 1, -1.39: 1, -1.33: 1, -1.26: 1, -1.22: 3, -1.19: 1, -1.16: 2, -1.13: 2, -1.11: 2, -1.1: 1, -1.03: 2, -0.99: 1, -0.93: 1, -0.9: 1, -0.82: 1, -0.8: 1, -0.79: 1, -0.75: 1, -0.69: 1, -0.67: 1, -0.55: 1, -0.39: 1, -0.38: 1, -0.37: 1, -0.36: 1, -0.32: 1, -0.26: 1, -0.24: 1, -0.23: 1, -0.2: 1, -0.19: 2, -0.18: 1, -0.17: 2, -0.15: 1, -0.14: 1, -0.13: 1, -0.09: 2, -0.06: 1, -0.05: 1, -0.01: 1, 0.02: 1, 0.13: 1, 0.21: 1, 0.28: 1, 0.63: 1, 0.66: 1, 0.78: 1, 0.8: 1, 1.03: 1, 1.04: 1, 1.13: 1, 1.18: 1, 1.2: 2, 1.25: 1, 1.31: 1, 1.35: 1, 1.41: 1, 1.54: 1, 1.74: 1}\n"
     ]
    }
   ],
   "source": [
    "value_counts = {}\n",
    "for value in sequence:\n",
    "    if value not in value_counts:\n",
    "        value_counts[value] = 1\n",
    "    else:\n",
    "        value_counts[value] += 1\n",
    "print(\"mi:\\n\", value_counts)"
   ]
  },
  {
   "cell_type": "markdown",
   "id": "435c23dd",
   "metadata": {},
   "source": [
    "Теперь можно рассчитать вероятность pi для каждого значения из выборки:"
   ]
  },
  {
   "cell_type": "code",
   "execution_count": 5,
   "id": "d3289f5e",
   "metadata": {},
   "outputs": [
    {
     "name": "stdout",
     "output_type": "stream",
     "text": [
      "pi:\n",
      " [0.01 0.01 0.01 0.01 0.01 0.01 0.01 0.01 0.01 0.01 0.01 0.01 0.01 0.01\n",
      " 0.01 0.01 0.01 0.01 0.01 0.01 0.01 0.01 0.02 0.01 0.01 0.01 0.01 0.01\n",
      " 0.01 0.01 0.01 0.01 0.01 0.01 0.03 0.01 0.02 0.02 0.02 0.01 0.02 0.01\n",
      " 0.01 0.01 0.01 0.01 0.01 0.01 0.01 0.01 0.01 0.01 0.01 0.01 0.01 0.01\n",
      " 0.01 0.01 0.01 0.01 0.02 0.01 0.02 0.01 0.01 0.01 0.02 0.01 0.01 0.01\n",
      " 0.01 0.01 0.01 0.01 0.01 0.01 0.01 0.01 0.01 0.01 0.01 0.01 0.02 0.01\n",
      " 0.01 0.01 0.01 0.01 0.01]\n"
     ]
    }
   ],
   "source": [
    "values_p = np.array([])\n",
    "for key in value_counts:\n",
    "    values_p = np.append(values_p, value_counts[key]/n)\n",
    "print(\"pi:\\n\", values_p)"
   ]
  },
  {
   "cell_type": "markdown",
   "id": "64f84bdf",
   "metadata": {},
   "source": [
    "Имея такие вероятности можем получить F(x):"
   ]
  },
  {
   "cell_type": "code",
   "execution_count": 6,
   "id": "5cc3aa61",
   "metadata": {},
   "outputs": [
    {
     "name": "stdout",
     "output_type": "stream",
     "text": [
      "F(xi):\n",
      " [0.01 0.02 0.03 0.04 0.05 0.06 0.07 0.08 0.09 0.1  0.11 0.12 0.13 0.14\n",
      " 0.15 0.16 0.17 0.18 0.19 0.2  0.21 0.22 0.24 0.25 0.26 0.27 0.28 0.29\n",
      " 0.3  0.31 0.32 0.33 0.34 0.35 0.38 0.39 0.41 0.43 0.45 0.46 0.48 0.49\n",
      " 0.5  0.51 0.52 0.53 0.54 0.55 0.56 0.57 0.58 0.59 0.6  0.61 0.62 0.63\n",
      " 0.64 0.65 0.66 0.67 0.69 0.7  0.72 0.73 0.74 0.75 0.77 0.78 0.79 0.8\n",
      " 0.81 0.82 0.83 0.84 0.85 0.86 0.87 0.88 0.89 0.9  0.91 0.92 0.94 0.95\n",
      " 0.96 0.97 0.98 0.99 1.  ]\n"
     ]
    }
   ],
   "source": [
    "F = np.array([])\n",
    "for i, a in enumerate(values_p):\n",
    "    if i == 0:\n",
    "        F = np.append(F, a)\n",
    "    else:\n",
    "        F = np.append(F, round(F[i-1] + a, 4))\n",
    "print(\"F(xi):\\n\", F)"
   ]
  },
  {
   "cell_type": "markdown",
   "id": "d51c2289",
   "metadata": {},
   "source": [
    "Тогда график для F будет выглядеть следующим образом:"
   ]
  },
  {
   "cell_type": "code",
   "execution_count": 7,
   "id": "50b14daa",
   "metadata": {},
   "outputs": [
    {
     "data": {
      "image/png": "[encoded data removed]",
      "text/plain": [
       "<Figure size 640x480 with 1 Axes>"
      ]
     },
     "metadata": {},
     "output_type": "display_data"
    }
   ],
   "source": [
    "plt.plot([key for key in value_counts], F)\n",
    "plt.ylabel(\"F\")\n",
    "plt.xlabel(\"x\")\n",
    "plt.show()"
   ]
  },
  {
   "cell_type": "markdown",
   "id": "59cc6860",
   "metadata": {},
   "source": [
    "Можно заметить, что график напоминает прямую линию.\n",
    "Вероятно мы имеем дело с равномерным распределением."
   ]
  },
  {
   "cell_type": "markdown",
   "id": "861a3823",
   "metadata": {},
   "source": [
    "## Построение гистограммы равноинтервальным методом\n",
    "\n",
    "Число интервалов M будет равно корню из количества велечин в вариационном ряду."
   ]
  },
  {
   "cell_type": "code",
   "execution_count": 8,
   "id": "ce81c382",
   "metadata": {},
   "outputs": [
    {
     "name": "stdout",
     "output_type": "stream",
     "text": [
      "M = 10\n"
     ]
    }
   ],
   "source": [
    "M = int(math.sqrt(n))\n",
    "print(\"M =\", M)"
   ]
  },
  {
   "cell_type": "markdown",
   "id": "e6d109c3",
   "metadata": {},
   "source": [
    "Длины интервалов равны, поэтому их можно вычислить как разность самого большого и самого малого элементов, деленную на количество интервалов:"
   ]
  },
  {
   "cell_type": "code",
   "execution_count": 9,
   "id": "731670bd",
   "metadata": {},
   "outputs": [
    {
     "name": "stdout",
     "output_type": "stream",
     "text": [
      "h = 0.553\n"
     ]
    }
   ],
   "source": [
    "interval_h = (sequence[-1] - sequence[0]) / M\n",
    "print(\"h =\", interval_h)"
   ]
  },
  {
   "cell_type": "markdown",
   "id": "dd78c0d4",
   "metadata": {},
   "source": [
    "Теперь нужно найти левые и правые границы для каждого интервала:"
   ]
  },
  {
   "cell_type": "code",
   "execution_count": 10,
   "id": "162722ee",
   "metadata": {},
   "outputs": [
    {
     "name": "stdout",
     "output_type": "stream",
     "text": [
      "Ai:  [-3.79  -3.237 -2.684 -2.131 -1.578 -1.025 -0.472  0.081  0.634  1.187]\n",
      "Bi:  [-3.237 -2.684 -2.131 -1.578 -1.025 -0.472  0.081  0.634  1.187  1.74 ]\n"
     ]
    }
   ],
   "source": [
    "interval_Ai = np.array([round(sequence[0] + interval_h*i, 4) for i in range(M)])\n",
    "print(\"Ai: \", interval_Ai)\n",
    "interval_Bi = np.array([round(sequence[0] + interval_h*(i+1), 4) for i in range(M)])\n",
    "print(\"Bi: \", interval_Bi)\n"
   ]
  },
  {
   "cell_type": "markdown",
   "id": "0d2a0b93",
   "metadata": {},
   "source": [
    "Для построения гистограммы нужно посчитать количество точек на каждом из интервалов:"
   ]
  },
  {
   "cell_type": "code",
   "execution_count": 11,
   "id": "e6e305dc",
   "metadata": {},
   "outputs": [
    {
     "name": "stdout",
     "output_type": "stream",
     "text": [
      "mi:  [2, 5, 7, 14, 20, 10, 23, 4, 7, 8]\n"
     ]
    }
   ],
   "source": [
    "interval_mi = [0 for _ in range(M)]\n",
    "interval_mi[0] = 1\n",
    "interval_mi[-1] = 1\n",
    "for i, a in enumerate(interval_mi):\n",
    "\tfor value in sequence:\n",
    "\t\tif value > interval_Ai[i] and value < interval_Bi[i]:\n",
    "\t\t\tinterval_mi[i] += 1\n",
    "\t\telif value == interval_Bi[i] and i != M-1:\n",
    "\t\t\tinterval_mi[i] += 0.5\n",
    "\t\t\tinterval_mi[i+1] += 0.5\n",
    "print(\"mi: \", interval_mi)"
   ]
  },
  {
   "cell_type": "markdown",
   "id": "b738e657",
   "metadata": {},
   "source": [
    "Теперь для каждого интервала можно посчитать статистическую плотность:"
   ]
  },
  {
   "cell_type": "code",
   "execution_count": 12,
   "id": "036826e7",
   "metadata": {},
   "outputs": [
    {
     "name": "stdout",
     "output_type": "stream",
     "text": [
      "fi: [0.0362 0.0904 0.1266 0.2532 0.3617 0.1808 0.4159 0.0723 0.1266 0.1447]\n"
     ]
    }
   ],
   "source": [
    "interval_fi = np.array([round(a/(interval_h*n), 4) for a in interval_mi])\n",
    "print(\"fi:\", interval_fi)"
   ]
  },
  {
   "cell_type": "code",
   "execution_count": 13,
   "id": "7c693f63",
   "metadata": {},
   "outputs": [
    {
     "data": {
      "image/png": "[encoded data removed]",
      "text/plain": [
       "<Figure size 640x480 with 1 Axes>"
      ]
     },
     "metadata": {},
     "output_type": "display_data"
    }
   ],
   "source": [
    "plt.xlabel(\"i\")\n",
    "plt.ylabel(\"fi\")\n",
    "plt.bar((interval_Ai + interval_Bi)/2, height=interval_fi, color=\"green\", edgecolor=\"white\", width=interval_h, alpha=.8)\n",
    "plt.show()"
   ]
  },
  {
   "cell_type": "markdown",
   "id": "a2cdebf8",
   "metadata": {},
   "source": [
    "## Построение гистограммы равновероятностным методом"
   ]
  },
  {
   "cell_type": "markdown",
   "id": "9b1fff15",
   "metadata": {},
   "source": [
    "При построении гистограммы этим методом интервалы определяются так,\n",
    "чтобы на каждый из них попало одинаковое кол-во точек."
   ]
  },
  {
   "cell_type": "code",
   "execution_count": 14,
   "id": "fef99f78",
   "metadata": {},
   "outputs": [
    {
     "name": "stdout",
     "output_type": "stream",
     "text": [
      "[[-3.79 -3.47 -3.02 -2.96 -2.83 -2.7  -2.69 -2.62 -2.6  -2.5 ]\n",
      " [-2.46 -2.38 -2.21 -2.16 -2.11 -2.1  -2.09 -2.08 -1.81 -1.77]\n",
      " [-1.74 -1.73 -1.67 -1.67 -1.65 -1.63 -1.61 -1.58 -1.54 -1.53]\n",
      " [-1.48 -1.45 -1.39 -1.33 -1.26 -1.22 -1.22 -1.22 -1.19 -1.16]\n",
      " [-1.16 -1.13 -1.13 -1.11 -1.11 -1.1  -1.03 -1.03 -0.99 -0.93]\n",
      " [-0.9  -0.82 -0.8  -0.79 -0.75 -0.69 -0.67 -0.55 -0.39 -0.38]\n",
      " [-0.37 -0.36 -0.32 -0.26 -0.24 -0.23 -0.2  -0.19 -0.19 -0.18]\n",
      " [-0.17 -0.17 -0.15 -0.14 -0.13 -0.09 -0.09 -0.06 -0.05 -0.01]\n",
      " [ 0.02  0.13  0.21  0.28  0.63  0.66  0.78  0.8   1.03  1.04]\n",
      " [ 1.13  1.18  1.2   1.2   1.25  1.31  1.35  1.41  1.54  1.74]]\n"
     ]
    }
   ],
   "source": [
    "# Корректно будет работать только если число точек\n",
    "# действительно является квадратом числа M.\n",
    "intervals = np.array([sequence[M*i: M*i+M] for i in range(M)])\n",
    "print(intervals)"
   ]
  },
  {
   "cell_type": "code",
   "execution_count": 15,
   "id": "e954c18e",
   "metadata": {},
   "outputs": [
    {
     "name": "stdout",
     "output_type": "stream",
     "text": [
      "Ai:  [-3.79  -2.48  -1.755 -1.505 -1.16  -0.915 -0.375 -0.175  0.005  1.085]\n",
      "Bi:  [-2.48  -1.755 -1.505 -1.16  -0.915 -0.375 -0.175  0.005  1.085  1.74 ]\n",
      "hi:  [1.31  0.725 0.25  0.345 0.245 0.54  0.2   0.18  1.08  0.655]\n",
      "fi:  [0.0763 0.1379 0.4    0.2899 0.4082 0.1852 0.5    0.5556 0.0926 0.1527]\n"
     ]
    }
   ],
   "source": [
    "Ai = np.array([0.1 for _ in range(M)])\n",
    "Bi = np.array([0.1 for _ in range(M)])\n",
    "for i, interval in enumerate(intervals):\n",
    "\tif i == 0:\n",
    "\t\tAi[0] = interval[0]\n",
    "\telse:\n",
    "\t\tif interval[0] == intervals[i-1][-1]:\n",
    "\t\t\tAi[i] = interval[0]\n",
    "\t\t\tBi[i-1] = interval[0]\n",
    "\t\telse:\n",
    "\t\t\tAi[i] = round((interval[0] + intervals[i-1][-1]) / 2, 4)\n",
    "\t\t\tBi[i-1] = round((interval[0] + intervals[i-1][-1]) / 2, 4)\n",
    "\tif i == M-1:\n",
    "\t\tBi[-1] = interval[-1]\n",
    "print(\"Ai: \", Ai)\n",
    "print(\"Bi: \", Bi)\n",
    "h = np.array([round(Bi[i] - Ai[i], 4) for i in range(M)])\n",
    "print(\"hi: \", h)\n",
    "fi = np.array([round(len(intervals[i]) / (h[i]*n), 4) for i in range(M)])\n",
    "print(\"fi: \", fi)"
   ]
  },
  {
   "cell_type": "markdown",
   "id": "b872f35c",
   "metadata": {},
   "source": [
    "Здесь:\n",
    "hi - ширина i-го интервала"
   ]
  },
  {
   "cell_type": "code",
   "execution_count": 16,
   "id": "b6c4954c",
   "metadata": {},
   "outputs": [
    {
     "data": {
      "image/png": "[encoded data removed]",
      "text/plain": [
       "<Figure size 640x480 with 1 Axes>"
      ]
     },
     "metadata": {},
     "output_type": "display_data"
    }
   ],
   "source": [
    "plt.xlabel(\"i\")\n",
    "plt.ylabel(\"fi\")\n",
    "plt.bar((Ai + Bi) / 2, height = fi, color=\"green\", edgecolor=\"white\", width=h, alpha=.8)\n",
    "plt.show()"
   ]
  },
  {
   "cell_type": "markdown",
   "id": "d0bc9d0e",
   "metadata": {},
   "source": [
    "### Оценка математического ожидания"
   ]
  },
  {
   "cell_type": "code",
   "execution_count": 17,
   "id": "f642b147",
   "metadata": {},
   "outputs": [
    {
     "name": "stdout",
     "output_type": "stream",
     "text": [
      "mx: -0.8179\n"
     ]
    }
   ],
   "source": [
    "mx = round(sum(sequence)/n, 4)\n",
    "print(\"mx:\", mx)"
   ]
  },
  {
   "cell_type": "code",
   "execution_count": 18,
   "id": "3ea2f97f",
   "metadata": {},
   "outputs": [
    {
     "name": "stdout",
     "output_type": "stream",
     "text": [
      "S0^2:  1.4972\n"
     ]
    }
   ],
   "source": [
    "S0_squared = round(1/(n-1)*sum([a*a - 2*mx*a + mx*mx for a in sequence]), 4)\n",
    "print(\"S0^2: \", S0_squared)"
   ]
  },
  {
   "cell_type": "code",
   "execution_count": 19,
   "id": "8462580a",
   "metadata": {},
   "outputs": [
    {
     "name": "stdout",
     "output_type": "stream",
     "text": [
      "S0:  1.2236\n"
     ]
    }
   ],
   "source": [
    "S0 = round(math.sqrt(S0_squared), 4)\n",
    "print(\"S0: \", S0)"
   ]
  },
  {
   "cell_type": "markdown",
   "id": "22b5d165",
   "metadata": {},
   "source": [
    "## Доверительные интервалы"
   ]
  },
  {
   "cell_type": "markdown",
   "id": "3ef4c2e0",
   "metadata": {},
   "source": [
    "Построим доверительные интервалы для mx и Dx, считая, что\n",
    "закон распределения случайной величины неизвестен, а доверительная\n",
    "вероятность p равна 0.95. Т.к. объем выборки достаточно велик,\n",
    "на основании предельной теоремы закон распределения несмещенных \n",
    "точечных оценок mx и Dx можно считать нормальным при любом\n",
    "законе распределения случайной величины. Тогда доверительный\n",
    "интервал для матожидания определяется как  \n",
    "(|x| - zp * S0/sqrt(n); |x| + zp * S0/sqrt(n))\n",
    "zp определяется по таблице нормального распределения для заданной\n",
    "доверительной вероятности p. "
   ]
  },
  {
   "cell_type": "code",
   "execution_count": 20,
   "id": "5151f6a9",
   "metadata": {},
   "outputs": [
    {
     "name": "stdout",
     "output_type": "stream",
     "text": [
      "[-1.0577 -0.5781]\n"
     ]
    }
   ],
   "source": [
    "zp = 1.96\n",
    "delta = round(zp * S0 / math.sqrt(n), 4)\n",
    "mx_borders = np.array([mx - delta, mx + delta])\n",
    "print(mx_borders)"
   ]
  },
  {
   "cell_type": "code",
   "execution_count": 21,
   "id": "9a196433",
   "metadata": {},
   "outputs": [
    {
     "name": "stdout",
     "output_type": "stream",
     "text": [
      "[1.0801 1.9143]\n"
     ]
    }
   ],
   "source": [
    "delta = round(zp * math.sqrt(2/(n-1)) * S0_squared, 4)\n",
    "Dx_borders = np.array([S0_squared - delta, S0_squared + delta])\n",
    "print(Dx_borders)"
   ]
  },
  {
   "cell_type": "markdown",
   "id": "f7aa1496",
   "metadata": {},
   "source": [
    "## Проверка гипотезы о законе распределения случайной величины\n",
    "Наблюдая функцию распределения и гистограмму, выдвинем гипотезу о равноменом законе распределения. Это значит что плотность вероятности в некотором интервале a-b постоянна, тогда:\n",
    "```\n",
    "f(x) = 0       и F(x) = 0             при x < a\n",
    "f(x) = 1/(b-a) и F(x) = (x-a)/(b-a)   при a <= x <= b\n",
    "f(x) = 0       и F(x) = 1             при x > b \n",
    "```\n",
    "\n",
    "Оценки неизвестных параметров a, b равномерного распределения можно вычислить:"
   ]
  },
  {
   "cell_type": "code",
   "execution_count": 22,
   "id": "f14322a6",
   "metadata": {},
   "outputs": [
    {
     "name": "stdout",
     "output_type": "stream",
     "text": [
      "a: -2.9372\n",
      "b: 1.3014\n"
     ]
    }
   ],
   "source": [
    "a = round(mx - S0 * math.sqrt(3), 4)\n",
    "print(\"a:\", a)\n",
    "b = round(mx + S0 * math.sqrt(3), 4)\n",
    "print(\"b:\", b)"
   ]
  },
  {
   "cell_type": "markdown",
   "id": "6d82bca9",
   "metadata": {},
   "source": [
    "### Критерий согласия Пирсона"
   ]
  },
  {
   "cell_type": "markdown",
   "id": "1fbc49ca",
   "metadata": {},
   "source": [
    "  Критерий согласия Пирсона - один их наиболее часто применяемых критериев. Алгоритм проверки следующий:\n",
    "  1. Вычислить значение критерия kappa^2\n",
    "    - kappa^2 = n * sum((pj - pj*)^2 / pj)\n",
    "    - kappa^2 = sum((vj - n * pj)^2 / (n * pj))\n",
    "    - n - объем выборки\n",
    "    - pj* - частота попадания в j-й интервал\n",
    "    - vj - количество чисел в выборке, попадающих в j-й интервал\n",
    "    - pj - теоретическая вероятность попадания СВ в j-й интервал при условии, что распределение действительно равномерное.\n",
    "  pj = (Aj<=X<=Bj) = F0(Bj) - F0(Aj)\n",
    "  \n",
    "  Используем равновероятностную гистограмму. Интервал гистограммы h = 1,9. Тогда теоретическая вероятность попадания случайной величины в каждый интервал равна 1/n.\n",
    "  \n",
    "  При расчете р1 и рм в качестве крайних границ первого и последнего интервалов А1, Вм следует использовать теоретические границы гипотетического закона распределения.\n",
    "  Если проверяется гипотеза о равномерном распределении, то А1 = х1, а Вм = хn. Гипотетическая функция будет иметь следующий вид:\n",
    "```\n",
    "F0(x) = 0                  при X < x1\n",
    "F0(x) = (X - x1)/(xn - x1) при x1 <= X <= xn\n",
    "F0(x) = 1                  при X >= xn\n",
    "```\n",
    "Теоретические вероятность попадания в интервалы будет вычисляться по формуле:\n",
    "pj = F0(Bj) - F0(Aj) = (Bj - Aj)/(xn - x1)"
   ]
  },
  {
   "cell_type": "code",
   "execution_count": 23,
   "id": "b1de94af",
   "metadata": {},
   "outputs": [
    {
     "name": "stdout",
     "output_type": "stream",
     "text": [
      "pj: [0.2369, 0.1311, 0.0452, 0.0624, 0.0443, 0.0976, 0.0362, 0.0325, 0.1953, 0.1184]\n",
      "0.9999\n"
     ]
    }
   ],
   "source": [
    "pj = [round((Bi[j] - Ai[j])/(sequence[-1] - sequence[0]), 4) for j in range(M)]\n",
    "print(\"pj:\", pj)\n",
    "print(sum(pj))"
   ]
  },
  {
   "cell_type": "code",
   "execution_count": 24,
   "id": "35786932",
   "metadata": {},
   "outputs": [
    {
     "name": "stdout",
     "output_type": "stream",
     "text": [
      "54.7676\n"
     ]
    }
   ],
   "source": [
    "kappa_squared = round(sum([pow(n/M - n*a, 2)/(n*a) for a in pj]), 4)\n",
    "print(kappa_squared)"
   ]
  },
  {
   "cell_type": "code",
   "execution_count": 25,
   "id": "93cb612a",
   "metadata": {},
   "outputs": [
    {
     "name": "stdout",
     "output_type": "stream",
     "text": [
      "7\n"
     ]
    }
   ],
   "source": [
    "k = M - 1 - 2\n",
    "print(k)"
   ]
  },
  {
   "cell_type": "markdown",
   "id": "3fe4fafd",
   "metadata": {},
   "source": [
    "Значение каппа меньше табличного критического для k = 7 и альфа = 0.05.\n",
    "11.29 < 14.1"
   ]
  },
  {
   "cell_type": "markdown",
   "id": "bac7ed6e",
   "metadata": {},
   "source": [
    "Оснований отклонить гипотезу с равномерным распределением по критерию Пирсона нет.\n",
    "### Критерий согласия Колмогорова\n",
    "Алгоритм проверки следующий:\n",
    "  1. На основании F(x)* вычислить значение критерия Колмогорова\n",
    "    - лямбда = sqrt(n) * Z\n",
    "    - Z = max|F*(xi)-F0(xi)|"
   ]
  },
  {
   "cell_type": "code",
   "execution_count": 26,
   "id": "fec2e127",
   "metadata": {},
   "outputs": [
    {
     "data": {
      "image/png": "[encoded data removed]",
      "text/plain": [
       "<Figure size 640x480 with 1 Axes>"
      ]
     },
     "metadata": {},
     "output_type": "display_data"
    }
   ],
   "source": [
    "points = np.append(Ai, Bi[-1])\n",
    "F0 = [(points[i] - a)/(b - a) for i in range(M+1)]\n",
    "plt.plot([key for key in value_counts], F)\n",
    "plt.plot(points, F0)\n",
    "plt.ylabel(\"F\")\n",
    "plt.xlabel(\"x\")\n",
    "plt.show()"
   ]
  },
  {
   "cell_type": "code",
   "execution_count": 27,
   "id": "ad9f4233",
   "metadata": {},
   "outputs": [
    {
     "name": "stdout",
     "output_type": "stream",
     "text": [
      "0.2112\n"
     ]
    }
   ],
   "source": [
    "Z = max([round(abs(F[i] - (key-a)/(b-a)),4) for i, key in enumerate(value_counts)])\n",
    "print(Z)"
   ]
  },
  {
   "cell_type": "code",
   "execution_count": 28,
   "id": "ff0d5ef6",
   "metadata": {},
   "outputs": [
    {
     "name": "stdout",
     "output_type": "stream",
     "text": [
      "2.112\n"
     ]
    }
   ],
   "source": [
    "lambdda = round(math.sqrt(n) * Z, 4)\n",
    "print(lambdda)"
   ]
  },
  {
   "cell_type": "markdown",
   "id": "5c287074",
   "metadata": {},
   "source": [
    "Из таблицы критических значений критерия Колмогорова получаем 1,36 для заданного уровня значимости.\n",
    "\n",
    "0,783 < 1,36 , а значит нет основания отвергать гипотезу о нормальном законе распределения."
   ]
  }
 ],
 "metadata": {
  "kernelspec": {
   "display_name": "Python 3 (ipykernel)",
   "language": "python",
   "name": "python3"
  },
  "language_info": {
   "codemirror_mode": {
    "name": "ipython",
    "version": 3
   },
   "file_extension": ".py",
   "mimetype": "text/x-python",
   "name": "python",
   "nbconvert_exporter": "python",
   "pygments_lexer": "ipython3",
   "version": "3.10.6"
  }
 },
 "nbformat": 4,
 "nbformat_minor": 5
}
