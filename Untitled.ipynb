{
 "cells": [
  {
   "cell_type": "markdown",
   "id": "0fa7c71a",
   "metadata": {},
   "source": [
    "### Одномерная выборка расположена в input1.csv"
   ]
  },
  {
   "cell_type": "code",
   "execution_count": 1,
   "id": "bc0707c3",
   "metadata": {},
   "outputs": [],
   "source": [
    "import pandas as pd\n",
    "import numpy as np\n",
    "import matplotlib.pyplot as plt\n",
    "import math\n",
    "np.set_printoptions(suppress=True)"
   ]
  },
  {
   "cell_type": "code",
   "execution_count": 2,
   "id": "d391f384",
   "metadata": {},
   "outputs": [
    {
     "name": "stdout",
     "output_type": "stream",
     "text": [
      "Выборка:\n",
      " [ -0.82  -3.06   0.17  -5.25  -8.36  -4.22  -4.52  -5.14 -13.41   1.41\n",
      "  -5.52   5.    -2.12   1.51  -2.76  -1.25  -3.22  -1.03  -1.98  -5.61\n",
      "  -1.09   1.71   2.4    3.    -4.57  -3.33   1.29  -2.51  -1.75  -1.21\n",
      "  -6.35  -5.91  -5.06   1.12  -3.66   0.73  -5.06  -9.61   1.19   1.6\n",
      "  -7.09   2.2   -2.36  -9.17   4.48  -1.56  -3.22  -7.28  -8.66  -8.74\n",
      "   2.67  -4.21  -1.42   1.56  -0.37   1.17  -2.79  -4.53   1.2    0.94\n",
      "  -4.36  -5.08 -10.06  -4.29  -4.46   0.07   3.85  -4.76  -2.11  -7.34\n",
      "  -0.27   0.96  -1.11  -4.47  -2.33  -9.26   0.33  -6.17  -2.6   -3.53\n",
      "  -0.8   -7.15   3.48  -7.46  -6.41  -6.39  -1.43   5.59  -2.42  -3.\n",
      "  -2.94   1.14  -0.95   0.65   0.75  -6.13   1.76   2.35  -0.08   5.2 ]\n",
      "Всего 100 значений.\n"
     ]
    }
   ],
   "source": [
    "dt = pd.read_csv(\"anton.csv\")\n",
    "values = dt.to_numpy().flatten()\n",
    "print(\"Выборка:\\n\", values)\n",
    "n = len(values)\n",
    "print(\"Всего\", n , \"значений.\")"
   ]
  },
  {
   "cell_type": "markdown",
   "id": "17961175",
   "metadata": {},
   "source": [
    "Чтобы получить вариационный ряд выборку нужно отсортировать:"
   ]
  },
  {
   "cell_type": "code",
   "execution_count": 3,
   "id": "f901c8ef",
   "metadata": {},
   "outputs": [
    {
     "name": "stdout",
     "output_type": "stream",
     "text": [
      "Вариационный ряд: \n",
      " [-13.41 -10.06  -9.61  -9.26  -9.17  -8.74  -8.66  -8.36  -7.46  -7.34\n",
      "  -7.28  -7.15  -7.09  -6.41  -6.39  -6.35  -6.17  -6.13  -5.91  -5.61\n",
      "  -5.52  -5.25  -5.14  -5.08  -5.06  -5.06  -4.76  -4.57  -4.53  -4.52\n",
      "  -4.47  -4.46  -4.36  -4.29  -4.22  -4.21  -3.66  -3.53  -3.33  -3.22\n",
      "  -3.22  -3.06  -3.    -2.94  -2.79  -2.76  -2.6   -2.51  -2.42  -2.36\n",
      "  -2.33  -2.12  -2.11  -1.98  -1.75  -1.56  -1.43  -1.42  -1.25  -1.21\n",
      "  -1.11  -1.09  -1.03  -0.95  -0.82  -0.8   -0.37  -0.27  -0.08   0.07\n",
      "   0.17   0.33   0.65   0.73   0.75   0.94   0.96   1.12   1.14   1.17\n",
      "   1.19   1.2    1.29   1.41   1.51   1.56   1.6    1.71   1.76   2.2\n",
      "   2.35   2.4    2.67   3.     3.48   3.85   4.48   5.     5.2    5.59]\n"
     ]
    }
   ],
   "source": [
    "values.sort()\n",
    "print(\"Вариационный ряд: \\n\", values)"
   ]
  },
  {
   "cell_type": "markdown",
   "id": "bd1bdf51",
   "metadata": {},
   "source": [
    "Нужно рассчитать как часто встречается каждый элемент в вариационном ряду:"
   ]
  },
  {
   "cell_type": "code",
   "execution_count": 4,
   "id": "6b8778f3",
   "metadata": {},
   "outputs": [
    {
     "name": "stdout",
     "output_type": "stream",
     "text": [
      "mi:\n",
      " {-13.41: 1, -10.06: 1, -9.61: 1, -9.26: 1, -9.17: 1, -8.74: 1, -8.66: 1, -8.36: 1, -7.46: 1, -7.34: 1, -7.28: 1, -7.15: 1, -7.09: 1, -6.41: 1, -6.39: 1, -6.35: 1, -6.17: 1, -6.13: 1, -5.91: 1, -5.61: 1, -5.52: 1, -5.25: 1, -5.14: 1, -5.08: 1, -5.06: 2, -4.76: 1, -4.57: 1, -4.53: 1, -4.52: 1, -4.47: 1, -4.46: 1, -4.36: 1, -4.29: 1, -4.22: 1, -4.21: 1, -3.66: 1, -3.53: 1, -3.33: 1, -3.22: 2, -3.06: 1, -3.0: 1, -2.94: 1, -2.79: 1, -2.76: 1, -2.6: 1, -2.51: 1, -2.42: 1, -2.36: 1, -2.33: 1, -2.12: 1, -2.11: 1, -1.98: 1, -1.75: 1, -1.56: 1, -1.43: 1, -1.42: 1, -1.25: 1, -1.21: 1, -1.11: 1, -1.09: 1, -1.03: 1, -0.95: 1, -0.82: 1, -0.8: 1, -0.37: 1, -0.27: 1, -0.08: 1, 0.07: 1, 0.17: 1, 0.33: 1, 0.65: 1, 0.73: 1, 0.75: 1, 0.94: 1, 0.96: 1, 1.12: 1, 1.14: 1, 1.17: 1, 1.19: 1, 1.2: 1, 1.29: 1, 1.41: 1, 1.51: 1, 1.56: 1, 1.6: 1, 1.71: 1, 1.76: 1, 2.2: 1, 2.35: 1, 2.4: 1, 2.67: 1, 3.0: 1, 3.48: 1, 3.85: 1, 4.48: 1, 5.0: 1, 5.2: 1, 5.59: 1}\n"
     ]
    }
   ],
   "source": [
    "mi = {}\n",
    "for value in values:\n",
    "    if value not in mi:\n",
    "        mi[value] = 1\n",
    "    else:\n",
    "        mi[value] += 1\n",
    "print(\"mi:\\n\", mi)"
   ]
  },
  {
   "cell_type": "markdown",
   "id": "435c23dd",
   "metadata": {},
   "source": [
    "Теперь можно рассчитать вероятность pi для каждого значения из выборки:"
   ]
  },
  {
   "cell_type": "code",
   "execution_count": 5,
   "id": "d3289f5e",
   "metadata": {},
   "outputs": [
    {
     "name": "stdout",
     "output_type": "stream",
     "text": [
      "pi:\n",
      " [0.01 0.01 0.01 0.01 0.01 0.01 0.01 0.01 0.01 0.01 0.01 0.01 0.01 0.01\n",
      " 0.01 0.01 0.01 0.01 0.01 0.01 0.01 0.01 0.01 0.01 0.02 0.01 0.01 0.01\n",
      " 0.01 0.01 0.01 0.01 0.01 0.01 0.01 0.01 0.01 0.01 0.02 0.01 0.01 0.01\n",
      " 0.01 0.01 0.01 0.01 0.01 0.01 0.01 0.01 0.01 0.01 0.01 0.01 0.01 0.01\n",
      " 0.01 0.01 0.01 0.01 0.01 0.01 0.01 0.01 0.01 0.01 0.01 0.01 0.01 0.01\n",
      " 0.01 0.01 0.01 0.01 0.01 0.01 0.01 0.01 0.01 0.01 0.01 0.01 0.01 0.01\n",
      " 0.01 0.01 0.01 0.01 0.01 0.01 0.01 0.01 0.01 0.01 0.01 0.01 0.01 0.01]\n"
     ]
    }
   ],
   "source": [
    "p = np.array([])\n",
    "for key in mi:\n",
    "    p = np.append(p, mi[key]/n)\n",
    "print(\"pi:\\n\", p)"
   ]
  },
  {
   "cell_type": "markdown",
   "id": "64f84bdf",
   "metadata": {},
   "source": [
    "Имея такие вероятности можем получить F(x):"
   ]
  },
  {
   "cell_type": "code",
   "execution_count": 6,
   "id": "5cc3aa61",
   "metadata": {},
   "outputs": [
    {
     "name": "stdout",
     "output_type": "stream",
     "text": [
      "F(xi):\n",
      " [0.01 0.02 0.03 0.04 0.05 0.06 0.07 0.08 0.09 0.1  0.11 0.12 0.13 0.14\n",
      " 0.15 0.16 0.17 0.18 0.19 0.2  0.21 0.22 0.23 0.24 0.26 0.27 0.28 0.29\n",
      " 0.3  0.31 0.32 0.33 0.34 0.35 0.36 0.37 0.38 0.39 0.41 0.42 0.43 0.44\n",
      " 0.45 0.46 0.47 0.48 0.49 0.5  0.51 0.52 0.53 0.54 0.55 0.56 0.57 0.58\n",
      " 0.59 0.6  0.61 0.62 0.63 0.64 0.65 0.66 0.67 0.68 0.69 0.7  0.71 0.72\n",
      " 0.73 0.74 0.75 0.76 0.77 0.78 0.79 0.8  0.81 0.82 0.83 0.84 0.85 0.86\n",
      " 0.87 0.88 0.89 0.9  0.91 0.92 0.93 0.94 0.95 0.96 0.97 0.98 0.99 1.  ]\n"
     ]
    }
   ],
   "source": [
    "F = np.array([])\n",
    "for i, a in enumerate(p):\n",
    "    if i == 0:\n",
    "        F = np.append(F, a)\n",
    "    else:\n",
    "        F = np.append(F, round(F[i-1] + a, 4))\n",
    "print(\"F(xi):\\n\", F)"
   ]
  },
  {
   "cell_type": "markdown",
   "id": "d51c2289",
   "metadata": {},
   "source": [
    "Тогда график для F будет выглядеть следующим образом:"
   ]
  },
  {
   "cell_type": "code",
   "execution_count": 7,
   "id": "50b14daa",
   "metadata": {},
   "outputs": [
    {
     "data": {
      "image/png": "[encoded data removed]",
      "text/plain": [
       "<Figure size 640x480 with 1 Axes>"
      ]
     },
     "metadata": {},
     "output_type": "display_data"
    }
   ],
   "source": [
    "plt.plot([key for key in mi], F)\n",
    "plt.ylabel(\"F\")\n",
    "plt.xlabel(\"x\")\n",
    "plt.show()"
   ]
  },
  {
   "cell_type": "markdown",
   "id": "59cc6860",
   "metadata": {},
   "source": [
    "Можно заметить, что график напоминает прямую линию.\n",
    "Вероятно мы имеем дело с равномерным распределением."
   ]
  },
  {
   "cell_type": "markdown",
   "id": "861a3823",
   "metadata": {},
   "source": [
    "## Построение гистограммы равноинтервальным методом\n",
    "\n",
    "Число интервалов M будет равно корню из количества велечин в вариационном ряду."
   ]
  },
  {
   "cell_type": "code",
   "execution_count": 8,
   "id": "ce81c382",
   "metadata": {},
   "outputs": [
    {
     "name": "stdout",
     "output_type": "stream",
     "text": [
      "M = 10\n"
     ]
    }
   ],
   "source": [
    "M = int(math.sqrt(n))\n",
    "print(\"M =\", M)"
   ]
  },
  {
   "cell_type": "markdown",
   "id": "e6d109c3",
   "metadata": {},
   "source": [
    "Длины интервалов равны, поэтому их можно вычислить как разность самого большого и самого малого элементов, деленную на количество интервалов:"
   ]
  },
  {
   "cell_type": "code",
   "execution_count": 9,
   "id": "731670bd",
   "metadata": {},
   "outputs": [
    {
     "name": "stdout",
     "output_type": "stream",
     "text": [
      "h = 1.9\n"
     ]
    }
   ],
   "source": [
    "h = (values[-1] - values[0]) / M\n",
    "print(\"h =\", h)"
   ]
  },
  {
   "cell_type": "markdown",
   "id": "dd78c0d4",
   "metadata": {},
   "source": [
    "Теперь нужно найти левые и правые границы для каждого интервала:"
   ]
  },
  {
   "cell_type": "code",
   "execution_count": 10,
   "id": "162722ee",
   "metadata": {},
   "outputs": [
    {
     "name": "stdout",
     "output_type": "stream",
     "text": [
      "Ai:  [-13.41 -11.51  -9.61  -7.71  -5.81  -3.91  -2.01  -0.11   1.79   3.69]\n",
      "Bi:  [-11.51  -9.61  -7.71  -5.81  -3.91  -2.01  -0.11   1.79   3.69   5.59]\n"
     ]
    }
   ],
   "source": [
    "Ai = np.array([round(values[0] + h*i, 4) for i in range(M)])\n",
    "print(\"Ai: \", Ai)\n",
    "Bi = np.array([round(values[0] + h*(i+1), 4) for i in range(M)])\n",
    "print(\"Bi: \", Bi)\n"
   ]
  },
  {
   "cell_type": "markdown",
   "id": "0d2a0b93",
   "metadata": {},
   "source": [
    "Для построения гистограммы нужно посчитать количество точек на каждом из интервалов:"
   ]
  },
  {
   "cell_type": "code",
   "execution_count": 11,
   "id": "e6e305dc",
   "metadata": {},
   "outputs": [
    {
     "name": "stdout",
     "output_type": "stream",
     "text": [
      "mi:  [1, 1.5, 5.5, 11, 17, 17, 15, 21, 6, 5]\n"
     ]
    }
   ],
   "source": [
    "mi = [0 for _ in range(M)]\n",
    "mi[0] = 1\n",
    "mi[-1] = 1\n",
    "for i, a in enumerate(mi):\n",
    "\tfor value in values:\n",
    "\t\tif value > Ai[i] and value < Bi[i]:\n",
    "\t\t\tmi[i] += 1\n",
    "\t\telif value == Bi[i] and i != M-1:\n",
    "\t\t\tmi[i] += 0.5\n",
    "\t\t\tmi[i+1] += 0.5\n",
    "print(\"mi: \", mi)"
   ]
  },
  {
   "cell_type": "markdown",
   "id": "b738e657",
   "metadata": {},
   "source": [
    "Теперь для каждого интервала можно посчитать статистическую плотность:"
   ]
  },
  {
   "cell_type": "code",
   "execution_count": 12,
   "id": "036826e7",
   "metadata": {},
   "outputs": [
    {
     "name": "stdout",
     "output_type": "stream",
     "text": [
      "fi: [0.0053 0.0079 0.0289 0.0579 0.0895 0.0895 0.0789 0.1105 0.0316 0.0263]\n"
     ]
    }
   ],
   "source": [
    "fi = np.array([round(a/(h*n), 4) for a in mi])\n",
    "print(\"fi:\", fi)"
   ]
  },
  {
   "cell_type": "code",
   "execution_count": 13,
   "id": "7c693f63",
   "metadata": {},
   "outputs": [
    {
     "data": {
      "image/png": "[encoded data removed]",
      "text/plain": [
       "<Figure size 640x480 with 1 Axes>"
      ]
     },
     "metadata": {},
     "output_type": "display_data"
    }
   ],
   "source": [
    "plt.xlabel(\"i\")\n",
    "plt.ylabel(\"fi\")\n",
    "plt.bar((Ai + Bi)/2, height=fi, color=\"green\", edgecolor=\"white\", width=h, alpha=.8)\n",
    "plt.show()"
   ]
  },
  {
   "cell_type": "markdown",
   "id": "a2cdebf8",
   "metadata": {},
   "source": [
    "## Построение гистограммы равновероятностным методом"
   ]
  },
  {
   "cell_type": "markdown",
   "id": "9b1fff15",
   "metadata": {},
   "source": [
    "При построении гистограммы этим методом интервалы определяются так,\n",
    "чтобы на каждый из них попало одинаковое кол-во точек."
   ]
  },
  {
   "cell_type": "code",
   "execution_count": 14,
   "id": "fef99f78",
   "metadata": {},
   "outputs": [
    {
     "name": "stdout",
     "output_type": "stream",
     "text": [
      "[[-13.41 -10.06  -9.61  -9.26  -9.17  -8.74  -8.66  -8.36  -7.46  -7.34]\n",
      " [ -7.28  -7.15  -7.09  -6.41  -6.39  -6.35  -6.17  -6.13  -5.91  -5.61]\n",
      " [ -5.52  -5.25  -5.14  -5.08  -5.06  -5.06  -4.76  -4.57  -4.53  -4.52]\n",
      " [ -4.47  -4.46  -4.36  -4.29  -4.22  -4.21  -3.66  -3.53  -3.33  -3.22]\n",
      " [ -3.22  -3.06  -3.    -2.94  -2.79  -2.76  -2.6   -2.51  -2.42  -2.36]\n",
      " [ -2.33  -2.12  -2.11  -1.98  -1.75  -1.56  -1.43  -1.42  -1.25  -1.21]\n",
      " [ -1.11  -1.09  -1.03  -0.95  -0.82  -0.8   -0.37  -0.27  -0.08   0.07]\n",
      " [  0.17   0.33   0.65   0.73   0.75   0.94   0.96   1.12   1.14   1.17]\n",
      " [  1.19   1.2    1.29   1.41   1.51   1.56   1.6    1.71   1.76   2.2 ]\n",
      " [  2.35   2.4    2.67   3.     3.48   3.85   4.48   5.     5.2    5.59]]\n"
     ]
    }
   ],
   "source": [
    "# Корректно будет работать только если число точек\n",
    "# действительно является квадратом числа M.\n",
    "intervals = np.array([values[M*i: M*i+M] for i in range(M)])\n",
    "print(intervals)"
   ]
  },
  {
   "cell_type": "code",
   "execution_count": 15,
   "id": "e954c18e",
   "metadata": {},
   "outputs": [
    {
     "name": "stdout",
     "output_type": "stream",
     "text": [
      "Ai:  [-13.41   -7.31   -5.565  -4.495  -3.22   -2.345  -1.16    0.12    1.18\n",
      "   2.275]\n",
      "Bi:  [-7.31  -5.565 -4.495 -3.22  -2.345 -1.16   0.12   1.18   2.275  5.59 ]\n",
      "hi:  [6.1   1.745 1.07  1.275 0.875 1.185 1.28  1.06  1.095 3.315]\n",
      "fi:  [0.0164 0.0573 0.0935 0.0784 0.1143 0.0844 0.0781 0.0943 0.0913 0.0302]\n"
     ]
    }
   ],
   "source": [
    "for i, interval in enumerate(intervals):\n",
    "\tif i == 0:\n",
    "\t\tAi[0] = interval[0]\n",
    "\telse:\n",
    "\t\tif interval[0] == intervals[i-1][-1]:\n",
    "\t\t\tAi[i] = interval[0]\n",
    "\t\t\tBi[i-1] = interval[0]\n",
    "\t\telse:\n",
    "\t\t\tAi[i] = round((interval[0] + intervals[i-1][-1]) / 2, 4)\n",
    "\t\t\tBi[i-1] = round((interval[0] + intervals[i-1][-1]) / 2, 4)\n",
    "\tif i == M-1:\n",
    "\t\tBi[-1] = interval[-1]\n",
    "print(\"Ai: \", Ai)\n",
    "print(\"Bi: \", Bi)\n",
    "h = np.array([round(Bi[i] - Ai[i], 4) for i in range(M)])\n",
    "print(\"hi: \", h)\n",
    "fi = np.array([round(len(intervals[i]) / (h[i]*n), 4) for i in range(M)])\n",
    "print(\"fi: \", fi)"
   ]
  },
  {
   "cell_type": "markdown",
   "id": "b872f35c",
   "metadata": {},
   "source": [
    "Здесь:\n",
    "hi - ширина i-го интервала"
   ]
  },
  {
   "cell_type": "code",
   "execution_count": 16,
   "id": "b6c4954c",
   "metadata": {},
   "outputs": [
    {
     "data": {
      "image/png": "[encoded data removed]",
      "text/plain": [
       "<Figure size 640x480 with 1 Axes>"
      ]
     },
     "metadata": {},
     "output_type": "display_data"
    }
   ],
   "source": [
    "plt.xlabel(\"i\")\n",
    "plt.ylabel(\"fi\")\n",
    "plt.bar((Ai + Bi) / 2, height = fi, color=\"green\", edgecolor=\"white\", width=h, alpha=.8)\n",
    "plt.show()"
   ]
  },
  {
   "cell_type": "markdown",
   "id": "d0bc9d0e",
   "metadata": {},
   "source": [
    "### Оценка математического ожидания"
   ]
  },
  {
   "cell_type": "code",
   "execution_count": 17,
   "id": "f642b147",
   "metadata": {},
   "outputs": [
    {
     "name": "stdout",
     "output_type": "stream",
     "text": [
      "mx: -2.3566\n"
     ]
    }
   ],
   "source": [
    "mx = round(sum(values)/n, 4)\n",
    "print(\"mx:\", mx)"
   ]
  },
  {
   "cell_type": "code",
   "execution_count": 18,
   "id": "3ea2f97f",
   "metadata": {},
   "outputs": [
    {
     "name": "stdout",
     "output_type": "stream",
     "text": [
      "S0^2:  14.6184\n"
     ]
    }
   ],
   "source": [
    "S0_squared = round(1/(n-1)*sum([a*a - 2*mx*a + mx*mx for a in values]), 4)\n",
    "print(\"S0^2: \", S0_squared)"
   ]
  },
  {
   "cell_type": "code",
   "execution_count": 19,
   "id": "8462580a",
   "metadata": {},
   "outputs": [
    {
     "name": "stdout",
     "output_type": "stream",
     "text": [
      "S0:  3.8234\n"
     ]
    }
   ],
   "source": [
    "S0 = round(math.sqrt(S0_squared), 4)\n",
    "print(\"S0: \", S0)"
   ]
  },
  {
   "cell_type": "markdown",
   "id": "22b5d165",
   "metadata": {},
   "source": [
    "## Доверительные интервалы"
   ]
  },
  {
   "cell_type": "markdown",
   "id": "3ef4c2e0",
   "metadata": {},
   "source": [
    "Построим доверительные интервалы для mx и Dx, считая, что\n",
    "закон распределения случайной величины неизвестен, а доверительная\n",
    "вероятность p равна 0.95. Т.к. объем выборки достаточно велик,\n",
    "на основании предельной теоремы закон распределения несмещенных \n",
    "точечных оценок mx и Dx можно считать нормальным при любом\n",
    "законе распределения случайной величины. Тогда доверительный\n",
    "интервал для матожидания определяется как  \n",
    "(|x| - zp * S0/sqrt(n); |x| + zp * S0/sqrt(n))\n",
    "zp определяется по таблице нормального распределения для заданной\n",
    "доверительной вероятности p. "
   ]
  },
  {
   "cell_type": "code",
   "execution_count": 20,
   "id": "5151f6a9",
   "metadata": {},
   "outputs": [
    {
     "name": "stdout",
     "output_type": "stream",
     "text": [
      "[-3.106  -1.6072]\n"
     ]
    }
   ],
   "source": [
    "zp = 1.96\n",
    "delta = round(zp * S0 / math.sqrt(n), 4)\n",
    "mx_borders = np.array([mx - delta, mx + delta])\n",
    "print(mx_borders)"
   ]
  },
  {
   "cell_type": "code",
   "execution_count": 21,
   "id": "9a196433",
   "metadata": {},
   "outputs": [
    {
     "name": "stdout",
     "output_type": "stream",
     "text": [
      "[10.546  18.6908]\n"
     ]
    }
   ],
   "source": [
    "delta = round(zp * math.sqrt(2/(n-1)) * S0_squared, 4)\n",
    "Dx_borders = np.array([S0_squared - delta, S0_squared + delta])\n",
    "print(Dx_borders)"
   ]
  },
  {
   "cell_type": "markdown",
   "id": "f7aa1496",
   "metadata": {},
   "source": [
    "## Проверка гипотезы о законе распределения случайной величины\n",
    "Наблюдая функцию распределения и гистограмму, выдвинем гипотезу о равноменом законе распределения. Это значит что плотность вероятности в некотором интервале a-b постоянна, тогда:\n",
    "f(x) = 0       и F(x) = 0             при x < a\n",
    "f(x) = 1/(b-a) и F(x) = (x-a)/(b-a)   при a <= x <= b\n",
    "f(x) = 0       и F(x) = 1             при x > b \n",
    "\n",
    "Оценки неизвестных параметров a, b равномерного распределения можно вычислить:"
   ]
  },
  {
   "cell_type": "code",
   "execution_count": 22,
   "id": "b8e60cb5",
   "metadata": {},
   "outputs": [
    {
     "name": "stdout",
     "output_type": "stream",
     "text": [
      "-8.9789\n",
      "4.2657\n"
     ]
    }
   ],
   "source": [
    "a = round(mx - S0 * math.sqrt(3), 4)\n",
    "print(a)\n",
    "b = round(mx + S0 * math.sqrt(3), 4)\n",
    "print(b)"
   ]
  },
  {
   "cell_type": "markdown",
   "id": "995563f6",
   "metadata": {},
   "source": [
    "### Критерий согласия Пирсона"
   ]
  },
  {
   "cell_type": "code",
   "execution_count": null,
   "id": "6ad17f55",
   "metadata": {},
   "outputs": [],
   "source": []
  }
 ],
 "metadata": {
  "kernelspec": {
   "display_name": "Python 3 (ipykernel)",
   "language": "python",
   "name": "python3"
  },
  "language_info": {
   "codemirror_mode": {
    "name": "ipython",
    "version": 3
   },
   "file_extension": ".py",
   "mimetype": "text/x-python",
   "name": "python",
   "nbconvert_exporter": "python",
   "pygments_lexer": "ipython3",
   "version": "3.10.6"
  }
 },
 "nbformat": 4,
 "nbformat_minor": 5
}
