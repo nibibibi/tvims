{
 "cells": [
  {
   "cell_type": "markdown",
   "id": "0fa7c71a",
   "metadata": {},
   "source": [
    "### Одномерная выборка расположена в input1.csv"
   ]
  },
  {
   "cell_type": "code",
   "execution_count": 1,
   "id": "bc0707c3",
   "metadata": {},
   "outputs": [],
   "source": [
    "import pandas as pd\n",
    "import numpy as np\n",
    "import matplotlib.pyplot as plt\n",
    "import math"
   ]
  },
  {
   "cell_type": "code",
   "execution_count": 3,
   "id": "d391f384",
   "metadata": {},
   "outputs": [
    {
     "name": "stdout",
     "output_type": "stream",
     "text": [
      "Выборка:\n",
      " [-5.24 -2.21  0.78 -5.33 -4.55 -0.25 -2.52 -3.64 -7.03 -7.06 -4.88 -5.33\n",
      " -1.81 -1.89  0.12 -2.43 -0.17 -1.58 -4.3  -0.31 -6.47 -5.95 -5.94 -3.42\n",
      " -3.74 -0.54 -5.74 -0.17 -6.71  0.26 -5.69 -5.06 -0.52  0.67 -0.18 -5.95\n",
      " -6.18 -1.63 -2.5  -6.97 -6.92 -2.51  0.04 -2.78 -4.53 -3.15 -1.43 -6.67\n",
      " -0.   -3.82 -2.79 -4.3  -3.26 -6.85 -6.    0.4  -6.37 -5.7  -1.33 -4.51\n",
      " -5.26  0.46 -4.55 -6.94 -0.16 -6.28 -6.35 -5.16  0.32 -5.09 -2.09 -2.5\n",
      " -2.94 -1.92 -3.17 -6.66 -4.5  -0.63 -1.63 -3.61 -0.77 -5.27 -1.9  -2.46\n",
      " -6.35 -0.37 -6.98 -5.09 -7.01 -6.67 -4.9  -0.94 -6.04 -2.86 -7.05 -4.98\n",
      " -6.42  0.75 -3.87 -2.84]\n",
      "Всего 100 значений.\n"
     ]
    }
   ],
   "source": [
    "dt = pd.read_csv(\"input1.csv\")\n",
    "values = dt.to_numpy().flatten()\n",
    "print(\"Выборка:\\n\", values)\n",
    "n = len(values)\n",
    "print(\"Всего\", n , \"значений.\")"
   ]
  },
  {
   "cell_type": "markdown",
   "id": "17961175",
   "metadata": {},
   "source": [
    "Чтобы получить вариационный ряд выборку нужно отсортировать:"
   ]
  },
  {
   "cell_type": "code",
   "execution_count": 3,
   "id": "f901c8ef",
   "metadata": {},
   "outputs": [
    {
     "name": "stdout",
     "output_type": "stream",
     "text": [
      "Вариационный ряд: \n",
      " [-7.06 -7.05 -7.03 -7.01 -6.98 -6.97 -6.94 -6.92 -6.85 -6.71 -6.67 -6.67\n",
      " -6.66 -6.47 -6.42 -6.37 -6.35 -6.35 -6.28 -6.18 -6.04 -6.   -5.95 -5.95\n",
      " -5.94 -5.74 -5.7  -5.69 -5.33 -5.33 -5.27 -5.26 -5.24 -5.16 -5.09 -5.09\n",
      " -5.06 -4.98 -4.9  -4.88 -4.55 -4.55 -4.53 -4.51 -4.5  -4.3  -4.3  -3.87\n",
      " -3.82 -3.74 -3.64 -3.61 -3.42 -3.26 -3.17 -3.15 -2.94 -2.86 -2.84 -2.79\n",
      " -2.78 -2.52 -2.51 -2.5  -2.5  -2.46 -2.43 -2.21 -2.09 -1.92 -1.9  -1.89\n",
      " -1.81 -1.63 -1.63 -1.58 -1.43 -1.33 -0.94 -0.77 -0.63 -0.54 -0.52 -0.37\n",
      " -0.31 -0.25 -0.18 -0.17 -0.17 -0.16 -0.    0.04  0.12  0.26  0.32  0.4\n",
      "  0.46  0.67  0.75  0.78]\n"
     ]
    }
   ],
   "source": [
    "values.sort()\n",
    "print(\"Вариационный ряд: \\n\", values)"
   ]
  },
  {
   "cell_type": "markdown",
   "id": "bd1bdf51",
   "metadata": {},
   "source": [
    "Нужно рассчитать как часто встречается каждый элемент в вариационном ряду:"
   ]
  },
  {
   "cell_type": "code",
   "execution_count": 4,
   "id": "6b8778f3",
   "metadata": {},
   "outputs": [
    {
     "name": "stdout",
     "output_type": "stream",
     "text": [
      "mi:\n",
      " {-7.06: 1, -7.05: 1, -7.03: 1, -7.01: 1, -6.98: 1, -6.97: 1, -6.94: 1, -6.92: 1, -6.85: 1, -6.71: 1, -6.67: 2, -6.66: 1, -6.47: 1, -6.42: 1, -6.37: 1, -6.35: 2, -6.28: 1, -6.18: 1, -6.04: 1, -6.0: 1, -5.95: 2, -5.94: 1, -5.74: 1, -5.7: 1, -5.69: 1, -5.33: 2, -5.27: 1, -5.26: 1, -5.24: 1, -5.16: 1, -5.09: 2, -5.06: 1, -4.98: 1, -4.9: 1, -4.88: 1, -4.55: 2, -4.53: 1, -4.51: 1, -4.5: 1, -4.3: 2, -3.87: 1, -3.82: 1, -3.74: 1, -3.64: 1, -3.61: 1, -3.42: 1, -3.26: 1, -3.17: 1, -3.15: 1, -2.94: 1, -2.86: 1, -2.84: 1, -2.79: 1, -2.78: 1, -2.52: 1, -2.51: 1, -2.5: 2, -2.46: 1, -2.43: 1, -2.21: 1, -2.09: 1, -1.92: 1, -1.9: 1, -1.89: 1, -1.81: 1, -1.63: 2, -1.58: 1, -1.43: 1, -1.33: 1, -0.94: 1, -0.77: 1, -0.63: 1, -0.54: 1, -0.52: 1, -0.37: 1, -0.31: 1, -0.25: 1, -0.18: 1, -0.17: 2, -0.16: 1, -0.0: 1, 0.04: 1, 0.12: 1, 0.26: 1, 0.32: 1, 0.4: 1, 0.46: 1, 0.67: 1, 0.75: 1, 0.78: 1}\n"
     ]
    }
   ],
   "source": [
    "mi = {}\n",
    "for value in values:\n",
    "    if value not in mi:\n",
    "        mi[value] = 1\n",
    "    else:\n",
    "        mi[value] += 1\n",
    "print(\"mi:\\n\", mi)"
   ]
  },
  {
   "cell_type": "markdown",
   "id": "435c23dd",
   "metadata": {},
   "source": [
    "Теперь можно рассчитать вероятность pi для каждого значения из выборки:"
   ]
  },
  {
   "cell_type": "code",
   "execution_count": 5,
   "id": "d3289f5e",
   "metadata": {},
   "outputs": [
    {
     "name": "stdout",
     "output_type": "stream",
     "text": [
      "pi:\n",
      " [0.01 0.01 0.01 0.01 0.01 0.01 0.01 0.01 0.01 0.01 0.02 0.01 0.01 0.01\n",
      " 0.01 0.02 0.01 0.01 0.01 0.01 0.02 0.01 0.01 0.01 0.01 0.02 0.01 0.01\n",
      " 0.01 0.01 0.02 0.01 0.01 0.01 0.01 0.02 0.01 0.01 0.01 0.02 0.01 0.01\n",
      " 0.01 0.01 0.01 0.01 0.01 0.01 0.01 0.01 0.01 0.01 0.01 0.01 0.01 0.01\n",
      " 0.02 0.01 0.01 0.01 0.01 0.01 0.01 0.01 0.01 0.02 0.01 0.01 0.01 0.01\n",
      " 0.01 0.01 0.01 0.01 0.01 0.01 0.01 0.01 0.02 0.01 0.01 0.01 0.01 0.01\n",
      " 0.01 0.01 0.01 0.01 0.01 0.01]\n"
     ]
    }
   ],
   "source": [
    "p = np.array([])\n",
    "for key in mi:\n",
    "    p = np.append(p, mi[key]/n)\n",
    "print(\"pi:\\n\", p)"
   ]
  },
  {
   "cell_type": "markdown",
   "id": "64f84bdf",
   "metadata": {},
   "source": [
    "Имея такие вероятности можем получить F(x):"
   ]
  },
  {
   "cell_type": "code",
   "execution_count": 6,
   "id": "5cc3aa61",
   "metadata": {},
   "outputs": [
    {
     "name": "stdout",
     "output_type": "stream",
     "text": [
      "F(xi):\n",
      " [0.01 0.02 0.03 0.04 0.05 0.06 0.07 0.08 0.09 0.1  0.12 0.13 0.14 0.15\n",
      " 0.16 0.18 0.19 0.2  0.21 0.22 0.24 0.25 0.26 0.27 0.28 0.3  0.31 0.32\n",
      " 0.33 0.34 0.36 0.37 0.38 0.39 0.4  0.42 0.43 0.44 0.45 0.47 0.48 0.49\n",
      " 0.5  0.51 0.52 0.53 0.54 0.55 0.56 0.57 0.58 0.59 0.6  0.61 0.62 0.63\n",
      " 0.65 0.66 0.67 0.68 0.69 0.7  0.71 0.72 0.73 0.75 0.76 0.77 0.78 0.79\n",
      " 0.8  0.81 0.82 0.83 0.84 0.85 0.86 0.87 0.89 0.9  0.91 0.92 0.93 0.94\n",
      " 0.95 0.96 0.97 0.98 0.99 1.  ]\n"
     ]
    }
   ],
   "source": [
    "F = np.array([])\n",
    "for i, a in enumerate(p):\n",
    "    if i == 0:\n",
    "        F = np.append(F, a)\n",
    "    else:\n",
    "        F = np.append(F, round(F[i-1] + a, 4))\n",
    "print(\"F(xi):\\n\", F)"
   ]
  },
  {
   "cell_type": "markdown",
   "id": "d51c2289",
   "metadata": {},
   "source": [
    "Тогда график для F будет выглядеть следующим образом:"
   ]
  },
  {
   "cell_type": "code",
   "execution_count": 7,
   "id": "50b14daa",
   "metadata": {},
   "outputs": [
    {
     "data": {
      "image/png": "[encoded data removed]",
      "text/plain": [
       "<Figure size 640x480 with 1 Axes>"
      ]
     },
     "metadata": {},
     "output_type": "display_data"
    }
   ],
   "source": [
    "plt.plot([key for key in mi], F)\n",
    "plt.ylabel(\"F\")\n",
    "plt.xlabel(\"x\")\n",
    "plt.show()"
   ]
  },
  {
   "cell_type": "code",
   "execution_count": null,
   "id": "1bcfef76",
   "metadata": {},
   "outputs": [],
   "source": [
    "### Можно заметить, что график напоминает прямую линию,"
   ]
  },
  {
   "cell_type": "markdown",
   "id": "861a3823",
   "metadata": {},
   "source": [
    "## Построение гистограммы равноинтервальным методом\n",
    "\n",
    "Число интервалов M будет равно корню из количества велечин в вариационном ряду."
   ]
  },
  {
   "cell_type": "code",
   "execution_count": 8,
   "id": "ce81c382",
   "metadata": {},
   "outputs": [
    {
     "name": "stdout",
     "output_type": "stream",
     "text": [
      "M = 10\n"
     ]
    }
   ],
   "source": [
    "M = int(math.sqrt(n))\n",
    "print(\"M =\", M)"
   ]
  },
  {
   "cell_type": "markdown",
   "id": "e6d109c3",
   "metadata": {},
   "source": [
    "Длины интервалов равны, поэтому их можно вычислить как разность самого большого и самого малого элементов, деленную на количество интервалов:"
   ]
  },
  {
   "cell_type": "code",
   "execution_count": 9,
   "id": "731670bd",
   "metadata": {},
   "outputs": [
    {
     "name": "stdout",
     "output_type": "stream",
     "text": [
      "h = 0.784\n"
     ]
    }
   ],
   "source": [
    "h = (values[-1] - values[0]) / M\n",
    "print(\"h =\", h)"
   ]
  },
  {
   "cell_type": "markdown",
   "id": "dd78c0d4",
   "metadata": {},
   "source": [
    "Теперь нужно найти левые и правые границы для каждого интервала:"
   ]
  },
  {
   "cell_type": "code",
   "execution_count": 10,
   "id": "162722ee",
   "metadata": {},
   "outputs": [
    {
     "name": "stdout",
     "output_type": "stream",
     "text": [
      "Ai:  [-7.060e+00 -6.276e+00 -5.492e+00 -4.708e+00 -3.924e+00 -3.140e+00\n",
      " -2.356e+00 -1.572e+00 -7.880e-01 -4.000e-03]\n",
      "Bi:  [-6.276e+00 -5.492e+00 -4.708e+00 -3.924e+00 -3.140e+00 -2.356e+00\n",
      " -1.572e+00 -7.880e-01 -4.000e-03  7.800e-01]\n"
     ]
    }
   ],
   "source": [
    "Ai = np.array([round(values[0] + h*i, 4) for i in range(M)])\n",
    "print(\"Ai: \", Ai)\n",
    "Bi = np.array([round(values[0] + h*(i+1), 4) for i in range(M)])\n",
    "print(\"Bi: \", Bi)"
   ]
  },
  {
   "cell_type": "markdown",
   "id": "0d2a0b93",
   "metadata": {},
   "source": [
    "Для построения гистограммы нужно посчитать количество точек на каждом из интервалов:"
   ]
  },
  {
   "cell_type": "code",
   "execution_count": 11,
   "id": "e6e305dc",
   "metadata": {},
   "outputs": [
    {
     "name": "stdout",
     "output_type": "stream",
     "text": [
      "mi:  [19, 9, 12, 7, 9, 11, 9, 3, 11, 10]\n"
     ]
    }
   ],
   "source": [
    "mi = [0 for _ in range(M)]\n",
    "mi[0] = 1\n",
    "mi[-1] = 1\n",
    "for i, a in enumerate(mi):\n",
    "\tfor value in values:\n",
    "\t\tif value > Ai[i] and value < Bi[i]:\n",
    "\t\t\tmi[i] += 1\n",
    "\t\telif value == Bi[i] and i != M-1:\n",
    "\t\t\tmi[i] += 0.5\n",
    "\t\t\tmi[i+1] += 0.5\n",
    "\t\t\tprint(\"aboba\", i)\n",
    "print(\"mi: \", mi)"
   ]
  },
  {
   "cell_type": "markdown",
   "id": "b738e657",
   "metadata": {},
   "source": [
    "Теперь для каждого интервала можно посчитать статистическую плотность:"
   ]
  },
  {
   "cell_type": "code",
   "execution_count": 12,
   "id": "036826e7",
   "metadata": {},
   "outputs": [
    {
     "name": "stdout",
     "output_type": "stream",
     "text": [
      "fi: [0.2423 0.1148 0.1531 0.0893 0.1148 0.1403 0.1148 0.0383 0.1403 0.1276]\n"
     ]
    }
   ],
   "source": [
    "fi = np.array([round(a/(h*n), 4) for a in mi])\n",
    "print(\"fi:\", fi)"
   ]
  },
  {
   "cell_type": "code",
   "execution_count": 13,
   "id": "7c693f63",
   "metadata": {},
   "outputs": [
    {
     "data": {
      "image/png": "[encoded data removed]",
      "text/plain": [
       "<Figure size 640x480 with 1 Axes>"
      ]
     },
     "metadata": {},
     "output_type": "display_data"
    }
   ],
   "source": [
    "plt.xlabel(\"i\")\n",
    "plt.ylabel(\"fi\")\n",
    "plt.bar([str(a) for a in Ai], height=fi, color=\"green\", edgecolor=\"green\", width=1)\n",
    "plt.show()"
   ]
  },
  {
   "cell_type": "markdown",
   "id": "a2cdebf8",
   "metadata": {},
   "source": [
    "## Построение гистограммы равновероятностным методом"
   ]
  },
  {
   "cell_type": "code",
   "execution_count": 14,
   "id": "fef99f78",
   "metadata": {},
   "outputs": [
    {
     "name": "stdout",
     "output_type": "stream",
     "text": [
      "[[-7.06 -7.05 -7.03 -7.01 -6.98 -6.97 -6.94 -6.92 -6.85 -6.71]\n",
      " [-6.67 -6.67 -6.66 -6.47 -6.42 -6.37 -6.35 -6.35 -6.28 -6.18]\n",
      " [-6.04 -6.   -5.95 -5.95 -5.94 -5.74 -5.7  -5.69 -5.33 -5.33]\n",
      " [-5.27 -5.26 -5.24 -5.16 -5.09 -5.09 -5.06 -4.98 -4.9  -4.88]\n",
      " [-4.55 -4.55 -4.53 -4.51 -4.5  -4.3  -4.3  -3.87 -3.82 -3.74]\n",
      " [-3.64 -3.61 -3.42 -3.26 -3.17 -3.15 -2.94 -2.86 -2.84 -2.79]\n",
      " [-2.78 -2.52 -2.51 -2.5  -2.5  -2.46 -2.43 -2.21 -2.09 -1.92]\n",
      " [-1.9  -1.89 -1.81 -1.63 -1.63 -1.58 -1.43 -1.33 -0.94 -0.77]\n",
      " [-0.63 -0.54 -0.52 -0.37 -0.31 -0.25 -0.18 -0.17 -0.17 -0.16]\n",
      " [-0.    0.04  0.12  0.26  0.32  0.4   0.46  0.67  0.75  0.78]]\n"
     ]
    }
   ],
   "source": [
    "intervals = np.array([values[M*i: M*i+M] for i in range(M)])\n",
    "print(intervals)"
   ]
  },
  {
   "cell_type": "code",
   "execution_count": 15,
   "id": "e954c18e",
   "metadata": {},
   "outputs": [
    {
     "name": "stdout",
     "output_type": "stream",
     "text": [
      "Ai:  [-7.06  -6.69  -6.11  -5.3   -4.715 -3.69  -2.785 -1.91  -0.7   -0.08 ]\n",
      "Bi:  [-6.69  -6.11  -5.3   -4.715 -3.69  -2.785 -1.91  -0.7   -0.08   0.78 ]\n",
      "hi:  [0.37  0.58  0.81  0.585 1.025 0.905 0.875 1.21  0.62  0.86 ]\n",
      "fi:  [0.2703 0.1724 0.1235 0.1709 0.0976 0.1105 0.1143 0.0826 0.1613 0.1163]\n"
     ]
    }
   ],
   "source": [
    "for i, interval in enumerate(intervals):\n",
    "\tif i == 0:\n",
    "\t\tAi[0] = interval[0]\n",
    "\telse:\n",
    "\t\tif interval[0] == intervals[i-1][-1]:\n",
    "\t\t\tAi[i] = interval[0]\n",
    "\t\t\tBi[i-1] = interval[0]\n",
    "\t\telse:\n",
    "\t\t\tAi[i] = round((interval[0] + intervals[i-1][-1]) / 2, 4)\n",
    "\t\t\tBi[i-1] = round((interval[0] + intervals[i-1][-1]) / 2, 4)\n",
    "\tif i == M-1:\n",
    "\t\tBi[-1] = interval[-1]\n",
    "print(\"Ai: \", Ai)\n",
    "print(\"Bi: \", Bi)\n",
    "h = np.array([round(Bi[i] - Ai[i], 4) for i in range(M)])\n",
    "print(\"hi: \", h)\n",
    "fi = np.array([round(len(intervals[i]) / (h[i]*n), 4) for i in range(M)])\n",
    "print(\"fi: \", fi)"
   ]
  },
  {
   "cell_type": "code",
   "execution_count": null,
   "id": "feee6a52",
   "metadata": {},
   "outputs": [],
   "source": []
  }
 ],
 "metadata": {
  "kernelspec": {
   "display_name": "Python 3 (ipykernel)",
   "language": "python",
   "name": "python3"
  },
  "language_info": {
   "codemirror_mode": {
    "name": "ipython",
    "version": 3
   },
   "file_extension": ".py",
   "mimetype": "text/x-python",
   "name": "python",
   "nbconvert_exporter": "python",
   "pygments_lexer": "ipython3",
   "version": "3.10.6"
  }
 },
 "nbformat": 4,
 "nbformat_minor": 5
}
